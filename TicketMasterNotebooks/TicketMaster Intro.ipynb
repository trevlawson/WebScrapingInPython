{
 "cells": [
  {
   "cell_type": "code",
   "execution_count": 112,
   "metadata": {},
   "outputs": [
    {
     "name": "stdout",
     "output_type": "stream",
     "text": [
      "<!DOCTYPE html>\n",
      "<html lang=\"en\">\n",
      " <head>\n",
      "  <!-- Google Tag Manager -->\n",
      "  <script>\n",
      "   (function(w,d,s,l,i){w[l]=w[l]||[];w[l].push({'gtm.start':\n",
      "            new Date().getTime(),event:'gtm.js'});var f=d.getElementsByTagName(s)[0],\n",
      "            j=d.createElement(s),dl=l!='dataLayer'?'&l='+l:'';j.async=true;j.src=\n",
      "            'https://www.googletagmanager.com/gtm.js?id='+i+dl;f.parentNode.insertBefore(j,f);\n",
      "    })(window,document,'script','dataLayer','GTM-K4QMLG');\n",
      "  </script>\n",
      "  <!-- End Google Tag Manager -->\n",
      "  <!-- Begin Monetate ExpressTag Async v6.1. Place at start of document head. DO NOT ALTER. -->\n",
      "  <script type=\"text/javascript\">\n",
      "   var monetateT = new Date().getTime();\n",
      "  (function() {\n",
      "    var p = document.location.protocol;\n",
      "    if (p == \"http:\" || p == \"https:\") {\n",
      "      var m = document.createElement('script'); m.type = 'text/javascript'; m.async = true; m.src = (p == \"https:\" ? \"https://s\" : \"http://\") + \"e.monetate.net/js/2/a-a1627c0e/p/settlement.livenation.com/custom.js\";\n",
      "      var s = document.getElementsByTagName('script')[0]; s.parentNode.insertBefore(m, s);\n",
      "    }\n",
      "  })();\n",
      "  </script>\n",
      "  <!-- End Monetate tag. -->\n",
      "  <meta charset=\"utf-8\"/>\n",
      "  <meta content=\"width=device-width, initial-scale=1.0\" name=\"viewport\"/>\n",
      "  <meta content=\"ie=edge\" http-equiv=\"x-ua-compatible\"/>\n",
      "  <title>\n",
      "   Schlesinger v. Ticketmaster Settlement Ticket Codes &amp; Vouchers\n",
      "  </title>\n",
      "  <meta content=\"List of benefits to Schlesinger vs. Ticketmaster settlement class members. Find how to redeem Discount Codes and Ticket Vouchers.\" name=\"description\"/>\n",
      "  <meta content=\"Dyn_vyhiknq01azRAsMn7goOh1xTWTSYxS0hsac5hg0\" name=\"google-site-verification\"/>\n",
      "  <link href=\"http://settlement.livenation.com\" rel=\"canonical\"/>\n",
      "  <meta content=\"Schlesinger v. Ticketmaster Settlement Ticket Codes &amp; Vouchers\" property=\"og:title\"/>\n",
      "  <meta content=\"List of benefits to Schlesinger vs. Ticketmaster settlement class members. Find how to redeem Discount Codes and Ticket Vouchers.\" property=\"og:description\"/>\n",
      "  <meta content=\"website\" property=\"og:type\"/>\n",
      "  <meta content=\"http://settlement.livenation.com\" property=\"og:url\"/>\n",
      "  <meta content=\"http://settlement.livenation.com/c35f16deea7c5f198bc923c76eacc8ad.png\" property=\"og:image\"/>\n",
      "  <link href=\"/18f7f7497e3a24ca5a43ad7978caa6c6.main.css\" rel=\"stylesheet\"/>\n",
      " </head>\n",
      " <body>\n",
      "  <!-- Google Tag Manager (noscript) -->\n",
      "  <noscript>\n",
      "   &lt;iframe src=\"https://www.googletagmanager.com/ns.html?id=GTM-K4QMLG\"\n",
      "                    height=\"0\" width=\"0\" style=\"display:none;visibility:hidden\"&gt;&lt;/iframe&gt;\n",
      "  </noscript>\n",
      "  <!-- End Google Tag Manager (noscript) -->\n",
      "  <div class=\"app\">\n",
      "  </div>\n",
      "  <!-- Omniture tagging -->\n",
      "  <script type=\"text/javascript\">\n",
      "   var CustomMap = function(){\n",
      "      var _storage = {};\n",
      "      this.get = function(key) {\n",
      "        return _storage[key];\n",
      "      }\n",
      "      this.set = function (key, value){\n",
      "        return _storage[key] = value;\n",
      "      }\n",
      "    }\n",
      "\n",
      "    function GetCookie (name) {\n",
      "      var value = \"; \" + document.cookie;\n",
      "      var parts = value.split(\"; \" + name + \"=\");\n",
      "      if (parts.length >= 2)\n",
      "      { return unescape(decodeURI(parts.pop().split(\";\").shift())); }\n",
      "      else\n",
      "      { return null; }\n",
      "    }\n",
      "\n",
      "    var tm_omn_account= \"tm-LN-USprod,tm-combinedUSprod\";\n",
      "    var tm_omni_temp = typeof Map === 'function' ? new Map() : new CustomMap();\n",
      "  </script>\n",
      "  <script src=\"http://s1.ticketm.net/en-us/js/978ec32486356f4ea226fb8706a4d9d2/omniture_tracker.js\" type=\"text/javascript\">\n",
      "  </script>\n",
      "  <script type=\"text/javascript\">\n",
      "   tm_omn.pageName = \"LN_US: Schlesinger Landing\";\n",
      "    tm_omn.channel = \"LN_US: Schlesinger Landing\";\n",
      "    tm_omn.t();\n",
      "  </script>\n",
      "  <!-- End Omniture tagging -->\n",
      "  <script src=\"/02d1dd8f1d8eed3229b7.main.js\" type=\"text/javascript\">\n",
      "  </script>\n",
      " </body>\n",
      "</html>\n"
     ]
    }
   ],
   "source": [
    "import requests\n",
    "from bs4 import BeautifulSoup\n",
    "\n",
    "url = \"http://settlement.livenation.com/\"\n",
    "request = requests.get(url)\n",
    "soup = BeautifulSoup(request.text, 'html5lib')\n",
    "print(soup.prettify())"
   ]
  },
  {
   "cell_type": "code",
   "execution_count": 113,
   "metadata": {},
   "outputs": [
    {
     "data": {
      "text/plain": [
       "False"
      ]
     },
     "execution_count": 113,
     "metadata": {},
     "output_type": "execute_result"
    }
   ],
   "source": [
    "# Does it see what we need?\n",
    "\n",
    "'nashville' in str(soup).lower()"
   ]
  },
  {
   "cell_type": "code",
   "execution_count": null,
   "metadata": {
    "collapsed": true
   },
   "outputs": [],
   "source": []
  },
  {
   "cell_type": "code",
   "execution_count": null,
   "metadata": {
    "collapsed": true
   },
   "outputs": [],
   "source": []
  },
  {
   "cell_type": "code",
   "execution_count": null,
   "metadata": {
    "collapsed": true
   },
   "outputs": [],
   "source": []
  },
  {
   "cell_type": "code",
   "execution_count": 87,
   "metadata": {
    "collapsed": true
   },
   "outputs": [],
   "source": [
    "# ...stupid JS, I'll get to you\n",
    "\n",
    "html = \"\"\"<html lang=\"en\"><head>\n",
    "\n",
    "  <!-- Google Tag Manager -->\n",
    "  <link rel=\"dns-prefetch\" href=\"http://f.monetate.net\"><link rel=\"dns-prefetch\" href=\"http://b.monetate.net\"><script async=\"\" src=\"//www.googletagmanager.com/gtm.js?id=GTM-KV8DNB\"></script><script type=\"text/javascript\" async=\"\" src=\"http://www.google-analytics.com/analytics.js\"></script><script type=\"text/javascript\" async=\"\" src=\"http://e.monetate.net/js/2/a-a1627c0e/p/settlement.livenation.com/custom.js\"></script><script async=\"\" src=\"https://www.googletagmanager.com/gtm.js?id=GTM-K4QMLG\"></script><script>(function(w,d,s,l,i){w[l]=w[l]||[];w[l].push({'gtm.start':\n",
    "            new Date().getTime(),event:'gtm.js'});var f=d.getElementsByTagName(s)[0],\n",
    "            j=d.createElement(s),dl=l!='dataLayer'?'&l='+l:'';j.async=true;j.src=\n",
    "            'https://www.googletagmanager.com/gtm.js?id='+i+dl;f.parentNode.insertBefore(j,f);\n",
    "    })(window,document,'script','dataLayer','GTM-K4QMLG');</script>\n",
    "  <!-- End Google Tag Manager -->\n",
    "\n",
    "  <!-- Begin Monetate ExpressTag Async v6.1. Place at start of document head. DO NOT ALTER. -->\n",
    "  <script type=\"text/javascript\">\n",
    "  var monetateT = new Date().getTime();\n",
    "  (function() {\n",
    "    var p = document.location.protocol;\n",
    "    if (p == \"http:\" || p == \"https:\") {\n",
    "      var m = document.createElement('script'); m.type = 'text/javascript'; m.async = true; m.src = (p == \"https:\" ? \"https://s\" : \"http://\") + \"e.monetate.net/js/2/a-a1627c0e/p/settlement.livenation.com/custom.js\";\n",
    "      var s = document.getElementsByTagName('script')[0]; s.parentNode.insertBefore(m, s);\n",
    "    }\n",
    "  })();\n",
    "  </script>\n",
    "  <!-- End Monetate tag. -->\n",
    "\n",
    "  <meta charset=\"UTF-8\">\n",
    "  <meta name=\"viewport\" content=\"width=device-width, initial-scale=1.0\">\n",
    "  <meta http-equiv=\"x-ua-compatible\" content=\"ie=edge\">\n",
    "  <title>Schlesinger v. Ticketmaster Settlement Ticket Codes &amp; Vouchers</title>\n",
    "  <meta name=\"description\" content=\"List of benefits to Schlesinger vs. Ticketmaster settlement class members. Find how to redeem Discount Codes and Ticket Vouchers.\">\n",
    "  <meta name=\"google-site-verification\" content=\"Dyn_vyhiknq01azRAsMn7goOh1xTWTSYxS0hsac5hg0\">\n",
    "  <link rel=\"canonical\" href=\"http://settlement.livenation.com\">\n",
    "  <meta property=\"og:title\" content=\"Schlesinger v. Ticketmaster Settlement Ticket Codes &amp; Vouchers\">\n",
    "  <meta property=\"og:description\" content=\"List of benefits to Schlesinger vs. Ticketmaster settlement class members. Find how to redeem Discount Codes and Ticket Vouchers.\">\n",
    "  <meta property=\"og:type\" content=\"website\">\n",
    "  <meta property=\"og:url\" content=\"http://settlement.livenation.com\">\n",
    "  <meta property=\"og:image\" content=\"http://settlement.livenation.com/c35f16deea7c5f198bc923c76eacc8ad.png\">\n",
    "<link href=\"/18f7f7497e3a24ca5a43ad7978caa6c6.main.css\" rel=\"stylesheet\"><style type=\"text/css\">.slick-slider{box-sizing:border-box;-webkit-user-select:none;-moz-user-select:none;-ms-user-select:none;user-select:none;-webkit-touch-callout:none;-khtml-user-select:none;-ms-touch-action:pan-y;touch-action:pan-y;-webkit-tap-highlight-color:transparent}.slick-list,.slick-slider{position:relative;display:block}.slick-list{overflow:hidden;margin:0;padding:0}.slick-list:focus{outline:none}.slick-list.dragging{cursor:pointer;cursor:hand}.slick-slider .slick-list,.slick-slider .slick-track{-webkit-transform:translateZ(0);-moz-transform:translateZ(0);-ms-transform:translateZ(0);-o-transform:translateZ(0);transform:translateZ(0)}.slick-track{position:relative;top:0;left:0;display:block}.slick-track:after,.slick-track:before{display:table;content:\"\"}.slick-track:after{clear:both}.slick-loading .slick-track{visibility:hidden}.slick-slide{display:none;float:left;height:100%;min-height:1px}[dir=rtl] .slick-slide{float:right}.slick-slide img{display:block}.slick-slide.slick-loading img{display:none}.slick-slide.dragging img{pointer-events:none}.slick-initialized .slick-slide{display:block}.slick-loading .slick-slide{visibility:hidden}.slick-vertical .slick-slide{display:block;height:auto;border:1px solid transparent}.slick-arrow.slick-hidden{display:none}</style><style type=\"text/css\">.slick-loading .slick-list{background:#fff url(/c5cd7f5300576ab4c88202b42f6ded62.gif) 50% no-repeat}@font-face{font-family:slick;font-weight:400;font-style:normal;src:url(/ced611daf7709cc778da928fec876475.eot);src:url(/ced611daf7709cc778da928fec876475.eot?#iefix) format(\"embedded-opentype\"),url(/b7c9e1e479de3b53f1e4e30ebac2403a.woff) format(\"woff\"),url(/d41f55a78e6f49a5512878df1737e58a.ttf) format(\"truetype\"),url(#slick#slick) format(\"svg\")}.slick-next,.slick-prev{font-size:0;line-height:0;position:absolute;top:50%;display:block;width:20px;height:20px;padding:0;-webkit-transform:translateY(-50%);-ms-transform:translateY(-50%);transform:translateY(-50%);cursor:pointer;border:none}.slick-next,.slick-next:focus,.slick-next:hover,.slick-prev,.slick-prev:focus,.slick-prev:hover{color:transparent;outline:none;background:transparent}.slick-next:focus:before,.slick-next:hover:before,.slick-prev:focus:before,.slick-prev:hover:before{opacity:1}.slick-next.slick-disabled:before,.slick-prev.slick-disabled:before{opacity:.25}.slick-next:before,.slick-prev:before{font-family:slick;font-size:20px;line-height:1;opacity:.75;color:#fff;-webkit-font-smoothing:antialiased;-moz-osx-font-smoothing:grayscale}.slick-prev{left:-25px}[dir=rtl] .slick-prev{right:-25px;left:auto}.slick-prev:before{content:\"\\2190\"}[dir=rtl] .slick-prev:before{content:\"\\2192\"}.slick-next{right:-25px}[dir=rtl] .slick-next{right:auto;left:-25px}.slick-next:before{content:\"\\2192\"}[dir=rtl] .slick-next:before{content:\"\\2190\"}.slick-dotted.slick-slider{margin-bottom:30px}.slick-dots{position:absolute;bottom:-25px;display:block;width:100%;padding:0;margin:0;list-style:none;text-align:center}.slick-dots li{position:relative;display:inline-block;margin:0 5px;padding:0}.slick-dots li,.slick-dots li button{width:20px;height:20px;cursor:pointer}.slick-dots li button{font-size:0;line-height:0;display:block;padding:5px;color:transparent;border:0;outline:none;background:transparent}.slick-dots li button:focus,.slick-dots li button:hover{outline:none}.slick-dots li button:focus:before,.slick-dots li button:hover:before{opacity:1}.slick-dots li button:before{font-family:slick;font-size:6px;line-height:20px;position:absolute;top:0;left:0;width:20px;height:20px;content:\"\\2022\";text-align:center;opacity:.25;color:#000;-webkit-font-smoothing:antialiased;-moz-osx-font-smoothing:grayscale}.slick-dots li.slick-active button:before{opacity:.75;color:#000}</style><script type=\"text/javascript\" src=\"http://f.monetate.net/trk/4/s/a-a1627c0e/p/settlement.livenation.com/618325757-0?mr=t1484745711&amp;mi='2.1728405942.1501033377501'&amp;mt=!n&amp;cs=!t&amp;e=!(viewPage,gt)&amp;pt=unknown&amp;r=''&amp;sw=1440&amp;sh=900&amp;sc=24&amp;j=!f&amp;u='http://settlement.livenation.com/'&amp;fl=!f&amp;hvc=!t&amp;eoq=!t\" charset=\"utf-8\" async=\"\"></script></head>\n",
    "<body><svg xmlns=\"http://www.w3.org/2000/svg\" xmlns:xlink=\"http://www.w3.org/1999/xlink\" style=\"position:absolute;width:0;height:0\"><defs><symbol id=\"slick\"> <metadata>Generated by Fontastic.me</metadata> <defs> <font id=\"slick_slick\" horiz-adv-x=\"512\"> <font-face font-family=\"slick\" units-per-em=\"512\" ascent=\"480\" descent=\"-32\"></font-face> <missing-glyph horiz-adv-x=\"512\"></missing-glyph> <glyph unicode=\"→\" d=\"M241 113l130 130c4 4 6 8 6 13 0 5-2 9-6 13l-130 130c-3 3-7 5-12 5-5 0-10-2-13-5l-29-30c-4-3-6-7-6-12 0-5 2-10 6-13l87-88-87-88c-4-3-6-8-6-13 0-5 2-9 6-12l29-30c3-3 8-5 13-5 5 0 9 2 12 5z m234 143c0-40-9-77-29-110-20-34-46-60-80-80-33-20-70-29-110-29-40 0-77 9-110 29-34 20-60 46-80 80-20 33-29 70-29 110 0 40 9 77 29 110 20 34 46 60 80 80 33 20 70 29 110 29 40 0 77-9 110-29 34-20 60-46 80-80 20-33 29-70 29-110z\"></glyph> <glyph unicode=\"←\" d=\"M296 113l29 30c4 3 6 7 6 12 0 5-2 10-6 13l-87 88 87 88c4 3 6 8 6 13 0 5-2 9-6 12l-29 30c-3 3-8 5-13 5-5 0-9-2-12-5l-130-130c-4-4-6-8-6-13 0-5 2-9 6-13l130-130c3-3 7-5 12-5 5 0 10 2 13 5z m179 143c0-40-9-77-29-110-20-34-46-60-80-80-33-20-70-29-110-29-40 0-77 9-110 29-34 20-60 46-80 80-20 33-29 70-29 110 0 40 9 77 29 110 20 34 46 60 80 80 33 20 70 29 110 29 40 0 77-9 110-29 34-20 60-46 80-80 20-33 29-70 29-110z\"></glyph> <glyph unicode=\"•\" d=\"M475 256c0-40-9-77-29-110-20-34-46-60-80-80-33-20-70-29-110-29-40 0-77 9-110 29-34 20-60 46-80 80-20 33-29 70-29 110 0 40 9 77 29 110 20 34 46 60 80 80 33 20 70 29 110 29 40 0 77-9 110-29 34-20 60-46 80-80 20-33 29-70 29-110z\"></glyph> <glyph unicode=\"a\" d=\"M475 439l0-128c0-5-1-9-5-13-4-4-8-5-13-5l-128 0c-8 0-13 3-17 11-3 7-2 14 4 20l40 39c-28 26-62 39-100 39-20 0-39-4-57-11-18-8-33-18-46-32-14-13-24-28-32-46-7-18-11-37-11-57 0-20 4-39 11-57 8-18 18-33 32-46 13-14 28-24 46-32 18-7 37-11 57-11 23 0 44 5 64 15 20 9 38 23 51 42 2 1 4 3 7 3 3 0 5-1 7-3l39-39c2-2 3-3 3-6 0-2-1-4-2-6-21-25-46-45-76-59-29-14-60-20-93-20-30 0-58 5-85 17-27 12-51 27-70 47-20 19-35 43-47 70-12 27-17 55-17 85 0 30 5 58 17 85 12 27 27 51 47 70 19 20 43 35 70 47 27 12 55 17 85 17 28 0 55-5 81-15 26-11 50-26 70-45l37 37c6 6 12 7 20 4 8-4 11-9 11-17z\"></glyph> </font></defs></symbol><symbol viewBox=\"0 0 8 15\" id=\"arrow_right\"> <title>arrow</title> <path d=\"M5.8 7.39l-4.504 6.374-.296.42.608.816.296-.42 4.8-6.79L7 7.37l-.413-.555-.06-.082L1.9.413 1.596 0 1 .832l.302.412 4.5 6.145z\"></path> </symbol><symbol viewBox=\"0 0 40 40\" id=\"fire\"> <title>Artboard</title> <defs aria-hidden=\"true\"> <linearGradient x1=\"50%\" y1=\"0%\" x2=\"50%\" y2=\"100%\" id=\"fire_a\"> <stop stop-color=\"#F00\" offset=\"0%\"></stop> <stop stop-color=\"#FA3\" offset=\"100%\"></stop> </linearGradient> </defs> <path d=\"M23.144 34.04c-.67 1.03-1.826 1.71-3.144 1.71-2.07 0-3.75-1.678-3.75-3.75 0-1.04.423-1.978 1.105-2.657 2.62-2.625 3.77-6.093 3.77-6.093s4.773 6.86 2.02 10.79M29.2 18.3l.01-.01-.122-.12c-.273-.317-.562-.62-.866-.906C19.157 7.424 25.4 2 25.4 2S15.3 5.502 14.453 15.36c-.19 2.215.084 4.75 1.047 7.64 0 0-3.06-1.678-3.734-5.725-.157-.942-.186-2.012-.016-3.22C11.75 14.056 8 17 8 26c0 6.628 5.373 12 12 12 6.628 0 12-5.372 12-12 0-2.932-1.052-5.617-2.8-7.7\" fill=\"url(#fire_a)\" fill-rule=\"evenodd\"></path> </symbol><symbol xmlns:xlink=\"http://www.w3.org/1999/xlink\" xmlns:sketch=\"http://www.bohemiancoding.com/sketch/ns\" viewBox=\"0 0 13 8\" id=\"icon-chevron\"> <title>Chevron icon</title> <desc>Chevron-shaped icon used for navigational cues.</desc> <g id=\"icon-chevron_mobile\" stroke-width=\"1\" fill-rule=\"evenodd\" type=\"MSPage\" aria-hidden=\"true\"> <g id=\"icon-chevron_m-edp-top-picks\" type=\"MSArtboardGroup\" transform=\"translate(-181.000000, -98.000000)\"> <g id=\"icon-chevron_event-details/date-time\" type=\"MSLayerGroup\" transform=\"translate(0.000000, 40.000000)\"> <path d=\"M186.303301,61.8890873 L191.261398,56.9309904 L189.847184,55.5167768 L183.483223,61.8807379 L183.491573,61.8890873 L183.483223,61.8974367 L189.847184,68.2613977 L191.261398,66.8471842 L186.303301,61.8890873 L186.303301,61.8890873 Z\" id=\"icon-chevron_chevron\" type=\"MSShapeGroup\" transform=\"translate(187.372310, 61.889087) rotate(-90.000000) translate(-187.372310, -61.889087) \"></path> </g> </g> </g> </symbol></defs></svg>\n",
    "  <!-- Google Tag Manager (noscript) -->\n",
    "  <noscript>&lt;iframe src=\"https://www.googletagmanager.com/ns.html?id=GTM-K4QMLG\"\n",
    "                    height=\"0\" width=\"0\" style=\"display:none;visibility:hidden\"&gt;&lt;/iframe&gt;</noscript>\n",
    "  <!-- End Google Tag Manager (noscript) -->\n",
    "  <div class=\"app\"><div data-reactroot=\"\"><a class=\"skipToMainLink-adcf6ee7c70cb22ac7ffadbebc9e486b\" href=\"#events\">Skip to main content</a><header class=\"LNHeader-a7d6dd0703ad8e7503658d41564992ef\"><div class=\"LNHeader-3bca371f54cbf2fec6a0c02f42df2d9f\"><div class=\"LNHeader-af9015006ac3746b4419c9839453bfbf\"><img class=\"LNHeader-51d46b0786a8ab8b743173f9aefe422f\" src=\"/f159bb150b07dfb58b06a6dafde0afad.png\" data-aqa-id=\"ln-logo\" alt=\"Live Nation\"></div><div class=\"LNHeader-a44ccc8cc0903c051689b3e1c6856049\"><ul class=\"LNHeader-bb3f2538b48a0619f9bd9dbcfbc031a9\"><li class=\"LNHeader-692c3a5ce6282ed805ab733deb5420e4\"><a href=\"https://concerts.livenation.com/member/vouchers\" class=\"LNHeader-46d01c9eb8c53bfae5a2e18143271a57\">My Vouchers</a></li></ul></div></div><div class=\"LNHeader-48b7948466c924fe572c3239f2ae90fc\"></div><div class=\"header-a9e9fe4c1ec9a4e7d0fc5b94c905e761\"><nav class=\"header-0422624468894b03e67c7b644748af6d\"><div class=\"header-24c8b349a1de305050607b5f89b22003\" data-aqa-id=\"menu-mobile-toggle\" role=\"button\" type=\"menu\" aria-label=\"Menu\" aria-expanded=\"false\" tabindex=\"0\"><div class=\"header-b5b3353f32b9147af1119c8e9abbd10a\"></div><div class=\"header-1d32ffa1eca3b9c733b4c23437bce2e4\">Eligible Events</div></div><ul class=\"header-e576a84431695e89e718364c9a1c6095\"><li class=\"header-653a30a6cd2892c9947ab296426e4933\"><a class=\"header-79efa7a7405c443991b296b94b62fc39\" data-aqa-id=\"menu-about\" href=\"#about\" media=\"DESKTOP\">About</a></li><li class=\"header-653a30a6cd2892c9947ab296426e4933\"><a class=\"header-79efa7a7405c443991b296b94b62fc39\" data-aqa-id=\"menu-vouchers\" href=\"#vouchers\" media=\"DESKTOP\">Vouchers</a></li><li class=\"header-653a30a6cd2892c9947ab296426e4933\"><a class=\"header-79efa7a7405c443991b296b94b62fc39 header-17083000989f40672e27e34f5dc7fc85\" data-aqa-id=\"menu-events\" href=\"#events\" media=\"DESKTOP\">Eligible Events</a></li><li class=\"header-653a30a6cd2892c9947ab296426e4933\"><a class=\"header-79efa7a7405c443991b296b94b62fc39\" data-aqa-id=\"menu-codes\" href=\"#codes\" media=\"DESKTOP\">Discount Codes</a></li><li class=\"header-653a30a6cd2892c9947ab296426e4933\"><a class=\"header-79efa7a7405c443991b296b94b62fc39\" data-aqa-id=\"menu-howto\" href=\"#howto\" media=\"DESKTOP\">How to Redeem </a></li><li class=\"header-653a30a6cd2892c9947ab296426e4933\"><a class=\"header-79efa7a7405c443991b296b94b62fc39\" href=\"//insider.ticketmaster.com/frequently-asked-questions-schlesinger-v-ticketmaster/\" title=\"opens in a new window\" rel=\"noopener noreferrer\" target=\"_blank\" data-aqa-id=\"menu-faq\">FAQ</a></li></ul></nav></div></header><section id=\"about\" tabindex=\"-1\" class=\"about-6d8cd37419512e8c2835394f413e3d82\"><div class=\"about-a546cdc462ecc7c9fe67e8feba01373a\"><div class=\"about-1d5389c35841b0c1a972ec11748656cb\"><h1 class=\"about-788fb0e878a1b4ea236dc7450813a7e2 schlesinger-header\">Schlesinger v. Ticketmaster Ticket Voucher Redemption</h1><p class=\"about-59fd3dc56b52df0df2fd300d6268b8e5\">Ticketmaster has issued Ticket Vouchers to class members that potentially may be redeemed for general admission tickets for the below eligible events at Live Nation owned or operated venues within the United States, available to class members on a first come, first served basis. Redeem Ticket Vouchers on this website.</p><p><!-- react-text: 36 -->Ticketmaster has also issued Discount Codes to class members, which will be valid until June of 2020 and will allow class members to receive discounts for future ticket purchases and/or receive discounts on future UPS ticket deliveries. Redeem Discount Codes on <!-- /react-text --><a title=\"opens in a new window\" data-aqa-id=\"about-tkm\" href=\"http://www.ticketmaster.com/\" rel=\"noopener noreferrer\" target=\"_blank\">Ticketmaster.com</a><!-- react-text: 38 -->.<!-- /react-text --></p></div></div><section class=\"settlement-ba80a08d9b37884d6c49ab4ce26aa1c2\"><div class=\"settlement-736485badc5f1e7a3763b4ee293c6a37\"><div class=\"settlement-6932bfa11845815c2cd177df7b867bbf\"><div><div class=\"settlement-bf3c373c6090c5c07d96cb0c8152b303\"><div><img class=\"settlement-55e6d4ede5bf1fd285c1f3eb7715d400\" src=\"/3cc2d379dbea9891660948b83409afd9.png\" role=\"none\" alt=\"$5 UPS Discount Code\"><h3 class=\"settlement-647273d209927948584f0e18e25ec258\">$5 UPS Discount Code</h3><div class=\"settlement-f469be5ff3f605462e634ba2555d0e0c\"><span><span>Class members receive a $5.00 UPS delivery credit per code to be applied toward future ticket purchases on </span><a href=\"http://www.ticketmaster.com/\" target=\"_blank\" title=\"opens in a new window\">Ticketmaster.com</a><span> for events in the United States if UPS delivery is selected.</span></span></div><div class=\"settlement-9bd8c67b6e3aec9fa68eabba8c49efc0\">*Redeemable on all events except for MLB games &amp; events held at AEG venues. UPS Discount Codes remain active until June of 2020.</div><a class=\"settlement-8d35ad75086fb5e1c10decbdf79a4ea0\" data-aqa-id=\"voucher3\" href=\"#codes\" media=\"DESKTOP\">Learn More</a><div class=\"settlement-ef5be489362098334203463ef611c280\"><a class=\"settlement-ee5e110efc849d675e7f16201baf2af5\" href=\"#codes\" media=\"DESKTOP\">Learn More</a></div></div></div><div class=\"settlement-bf3c373c6090c5c07d96cb0c8152b303\"><div><img class=\"settlement-55e6d4ede5bf1fd285c1f3eb7715d400\" src=\"/889b0743d43cbc16e852d92fb389b6da.png\" role=\"none\" alt=\"$2.25 Discount Code\"><h3 class=\"settlement-647273d209927948584f0e18e25ec258\">$2.25 Discount Code</h3><div class=\"settlement-f469be5ff3f605462e634ba2555d0e0c\"><span><span>Class members receive a $2.25 discount per code to be applied toward future ticket purchases on </span><a href=\"http://www.ticketmaster.com/\" target=\"_blank\" title=\"opens in a new window\">Ticketmaster.com</a><span> for events in the United States.</span></span></div><div class=\"settlement-9bd8c67b6e3aec9fa68eabba8c49efc0\">*Redeemable on all events except for MLB games &amp; events held at AEG venues. Discount Codes remain active until June of 2020.</div><a class=\"settlement-8d35ad75086fb5e1c10decbdf79a4ea0\" data-aqa-id=\"voucher2\" href=\"#codes\" media=\"DESKTOP\">Learn More</a><div class=\"settlement-ef5be489362098334203463ef611c280\"><a class=\"settlement-ee5e110efc849d675e7f16201baf2af5\" href=\"#codes\" media=\"DESKTOP\">Learn More</a></div></div></div><div class=\"settlement-bf3c373c6090c5c07d96cb0c8152b303\"><div><img class=\"settlement-55e6d4ede5bf1fd285c1f3eb7715d400\" src=\"/dcaddb06cebdc1bbc98efb2bfe14ba60.png\" role=\"none\" alt=\"Ticket Vouchers\"><h3 class=\"settlement-647273d209927948584f0e18e25ec258\">Ticket Vouchers</h3><div class=\"settlement-f469be5ff3f605462e634ba2555d0e0c\">Each Ticket Voucher is redeemable for two (2) general admission tickets to select events at Live Nation owned or operated venues within the United States. Please note, each Ticket Voucher is valid for a single, one-time use.</div><div class=\"settlement-9bd8c67b6e3aec9fa68eabba8c49efc0\">*Redeemable on a first-come, first-served basis.</div><a class=\"settlement-8d35ad75086fb5e1c10decbdf79a4ea0\" data-aqa-id=\"voucher1\" href=\"#events\" media=\"DESKTOP\">View Eligible Events</a><div class=\"settlement-ef5be489362098334203463ef611c280\"><a class=\"settlement-ee5e110efc849d675e7f16201baf2af5\" href=\"#events\" media=\"DESKTOP\">View Eligible Events</a></div></div></div></div></div></div><div class=\"greyLine-a601f348f9fecb6cc70cd527ce30a45c\"></div></section></section><section><section id=\"vouchers\" tabindex=\"-1\" class=\"eventsHeader-05712ed78ab4b33f39f17c9abaa36bde\"><div class=\"eventsHeader-146e1315111539e8efe0dad09496eead\"><img src=\"/78ff31b5be4b954bf822a9950747d71a.png\" class=\"eventsHeader-a037134d7a77e5cab1271aeab2b1545e\" role=\"none\" alt=\"Redeem your Ticket Vouchers on these select events\"><div class=\"eventsHeader-be4c57749d2ed01a0e6aaa8ce4e193e2\"><h2 id=\"vouchers-heading\" class=\"eventsHeader-c75a102960b80bd0593a0c919b395b2e\">Eligible events are available for Ticket Voucher redemption on a first-come, first-served basis.</h2><p class=\"eventsHeader-7b9648ed4dbc00b29d782143c1ce52dc\">Each Ticket Voucher is potentially redeemable for two (2) general admission tickets to select eligible events at Live Nation owned or operated venues within the United States. Tickets are available on a first-come, first-served basis. Each Ticket Voucher is valid for a single, one-time use.</p><p>Some things to remember when using Ticket Vouchers:</p><ul><li>Each Ticket Voucher is potentially redeemable for two (2) general admission tickets </li><li>Only one Ticket Voucher can be used per transaction</li><li>A maximum of two Ticket Vouchers (total of 4 tickets) can be used for any one event</li><li>Ticket Vouchers are non-transferable</li><li>Each Ticket Voucher is valid for a single, one-time use</li></ul><p>All accessible seating needs will be appropriately accommodated at the venue.</p><p><a class=\"eventsHeader-a6ba2d60a65b6836a77fa15adbfd024e\" href=\"#codes\" media=\"DESKTOP\">Click here</a><!-- react-text: 96 --> for more information on the $2.25 Discount Code and $5.00 UPS Discount Code.<!-- /react-text --></p><p><a class=\"eventsHeader-a6ba2d60a65b6836a77fa15adbfd024e\" href=\"#howto\" media=\"DESKTOP\">Click here</a><!-- react-text: 99 --> for more information on how to redeem Ticket Vouchers or Discount Codes.<!-- /react-text --></p></div></div></section><div id=\"events\" tabindex=\"-1\" class=\"eventsSection-50e7f25b7f0623cae86ae5163c78ecb9\"><div class=\"eventsSection-649c3b147a3d27d1d68f4e77a366d22f\"><p class=\"eventsSection-e778b25d63b918f2c7f2fd1aee9ffb45\"><i>Each Ticket Voucher is potentially redeemable for two (2) general admission tickets for the following eligible events at Live Nation owned or operated venues within the United States. Tickets are available on a first-come, first-served basis. Each Ticket Voucher is valid for a single, one-time use.</i></p><div><div><div class=\"location-5a3ad7e404513425938eea93a7a1b786 undefined\"><div class=\"location-59513f17a86db4a0c0e70bd245db8bb2\"><span class=\"location-af240d443e991da6c60be53adafb864e\">Events In Selected Cities</span><span class=\"location-1552df34decacee63c8b252521605220\"><!-- react-text: 110 -->(<!-- /react-text --><!-- react-text: 111 -->1<!-- /react-text --><!-- react-text: 112 -->)<!-- /react-text --></span></div></div><div role=\"application\" class=\"locationSelector-e5d8cfd7e21103ff2c92d10ee1ba4155\"><div tabindex=\"0\" role=\"combobox\" aria-label=\"Select city\" aria-expanded=\"false\" class=\"locationSelector-fa870c536ad9ef0c0965b39daab47d1f\"><div class=\"locationSelector-2139fdfd9505d219ce9e4a1745f93169\"><div class=\"locationSelector-3becb1bcaecb9c2015ac08585d0108b7\">Select Cities</div><div class=\"locationSelector-cf4b8dbda2dfa5d48813022f88f6e4ec\"><svg focusable=\"false\" aria-hidden=\"true\" class=\"locationSelector-a8117a655dd971d3b616ca99b449f71c\"><use xmlns:xlink=\"http://www.w3.org/1999/xlink\" xlink:href=\"#icon-chevron\"></use></svg></div></div><div class=\"locationSelector-87b351cc10173689d6cec8f54e1a7f89 locationSelector-d023751003c7799e3fa4482015ed2531\"><div><ul role=\"listbox\" aria-multiselectable=\"true\" aria-label=\"Select Cities\" aria-hidden=\"true\" aria-expanded=\"false\" class=\"locationSelector-c4fcf4731d700d468efe75fdb960a420\"><li tabindex=\"-1\" role=\"option\" class=\"locationSelector-5369254588e82c13885120f9549be1a3\" aria-selected=\"false\" aria-label=\"select all cities\">All Cities</li><li tabindex=\"-1\" role=\"option\" aria-label=\"Albuquerque, NM\" aria-selected=\"false\" class=\"locationSelector-5369254588e82c13885120f9549be1a3\"><!-- react-text: 253 -->Albuquerque<!-- /react-text --><!-- react-text: 254 -->, <!-- /react-text --><!-- react-text: 255 -->NM<!-- /react-text --></li><li tabindex=\"-1\" role=\"option\" aria-label=\"Bristow, VA\" aria-selected=\"false\" class=\"locationSelector-5369254588e82c13885120f9549be1a3\"><!-- react-text: 257 -->Bristow<!-- /react-text --><!-- react-text: 258 -->, <!-- /react-text --><!-- react-text: 259 -->VA<!-- /react-text --></li><li tabindex=\"-1\" role=\"option\" aria-label=\"Burgettstown, PA\" aria-selected=\"false\" class=\"locationSelector-5369254588e82c13885120f9549be1a3\"><!-- react-text: 261 -->Burgettstown<!-- /react-text --><!-- react-text: 262 -->, <!-- /react-text --><!-- react-text: 263 -->PA<!-- /react-text --></li><li tabindex=\"-1\" role=\"option\" aria-label=\"Camden, NJ\" aria-selected=\"false\" class=\"locationSelector-5369254588e82c13885120f9549be1a3\"><!-- react-text: 265 -->Camden<!-- /react-text --><!-- react-text: 266 -->, <!-- /react-text --><!-- react-text: 267 -->NJ<!-- /react-text --></li><li tabindex=\"-1\" role=\"option\" aria-label=\"Charlotte, NC\" aria-selected=\"false\" class=\"locationSelector-5369254588e82c13885120f9549be1a3\"><!-- react-text: 269 -->Charlotte<!-- /react-text --><!-- react-text: 270 -->, <!-- /react-text --><!-- react-text: 271 -->NC<!-- /react-text --></li><li tabindex=\"-1\" role=\"option\" aria-label=\"Chula Vista, CA\" aria-selected=\"false\" class=\"locationSelector-5369254588e82c13885120f9549be1a3\"><!-- react-text: 273 -->Chula Vista<!-- /react-text --><!-- react-text: 274 -->, <!-- /react-text --><!-- react-text: 275 -->CA<!-- /react-text --></li><li tabindex=\"-1\" role=\"option\" aria-label=\"Concord, CA\" aria-selected=\"false\" class=\"locationSelector-5369254588e82c13885120f9549be1a3\"><!-- react-text: 277 -->Concord<!-- /react-text --><!-- react-text: 278 -->, <!-- /react-text --><!-- react-text: 279 -->CA<!-- /react-text --></li><li tabindex=\"-1\" role=\"option\" aria-label=\"Cuyahoga Falls, OH\" aria-selected=\"false\" class=\"locationSelector-5369254588e82c13885120f9549be1a3\"><!-- react-text: 281 -->Cuyahoga Falls<!-- /react-text --><!-- react-text: 282 -->, <!-- /react-text --><!-- react-text: 283 -->OH<!-- /react-text --></li><li tabindex=\"-1\" role=\"option\" aria-label=\"Dallas, TX\" aria-selected=\"false\" class=\"locationSelector-5369254588e82c13885120f9549be1a3\"><!-- react-text: 285 -->Dallas<!-- /react-text --><!-- react-text: 286 -->, <!-- /react-text --><!-- react-text: 287 -->TX<!-- /react-text --></li><li tabindex=\"-1\" role=\"option\" aria-label=\"Darien Center, NY\" aria-selected=\"false\" class=\"locationSelector-5369254588e82c13885120f9549be1a3\"><!-- react-text: 289 -->Darien Center<!-- /react-text --><!-- react-text: 290 -->, <!-- /react-text --><!-- react-text: 291 -->NY<!-- /react-text --></li><li tabindex=\"-1\" role=\"option\" aria-label=\"Detroit, MI\" aria-selected=\"false\" class=\"locationSelector-5369254588e82c13885120f9549be1a3\"><!-- react-text: 293 -->Detroit<!-- /react-text --><!-- react-text: 294 -->, <!-- /react-text --><!-- react-text: 295 -->MI<!-- /react-text --></li><li tabindex=\"-1\" role=\"option\" aria-label=\"Grand Rapids, MI\" aria-selected=\"false\" class=\"locationSelector-5369254588e82c13885120f9549be1a3\"><!-- react-text: 297 -->Grand Rapids<!-- /react-text --><!-- react-text: 298 -->, <!-- /react-text --><!-- react-text: 299 -->MI<!-- /react-text --></li><li tabindex=\"-1\" role=\"option\" aria-label=\"Holmdel, NJ\" aria-selected=\"false\" class=\"locationSelector-5369254588e82c13885120f9549be1a3\"><!-- react-text: 301 -->Holmdel<!-- /react-text --><!-- react-text: 302 -->, <!-- /react-text --><!-- react-text: 303 -->NJ<!-- /react-text --></li><li tabindex=\"-1\" role=\"option\" aria-label=\"Indianapolis, IN\" aria-selected=\"false\" class=\"locationSelector-5369254588e82c13885120f9549be1a3\"><!-- react-text: 305 -->Indianapolis<!-- /react-text --><!-- react-text: 306 -->, <!-- /react-text --><!-- react-text: 307 -->IN<!-- /react-text --></li><li tabindex=\"-1\" role=\"option\" aria-label=\"Irving, TX\" aria-selected=\"false\" class=\"locationSelector-5369254588e82c13885120f9549be1a3\"><!-- react-text: 309 -->Irving<!-- /react-text --><!-- react-text: 310 -->, <!-- /react-text --><!-- react-text: 311 -->TX<!-- /react-text --></li><li tabindex=\"-1\" role=\"option\" aria-label=\"Maryland Heights, MO\" aria-selected=\"false\" class=\"locationSelector-5369254588e82c13885120f9549be1a3\"><!-- react-text: 313 -->Maryland Heights<!-- /react-text --><!-- react-text: 314 -->, <!-- /react-text --><!-- react-text: 315 -->MO<!-- /react-text --></li><li tabindex=\"-1\" role=\"option\" aria-label=\"Miami, FL\" aria-selected=\"false\" class=\"locationSelector-5369254588e82c13885120f9549be1a3\"><!-- react-text: 317 -->Miami<!-- /react-text --><!-- react-text: 318 -->, <!-- /react-text --><!-- react-text: 319 -->FL<!-- /react-text --></li><li tabindex=\"-1\" role=\"option\" aria-label=\"Mountain View, CA\" aria-selected=\"false\" class=\"locationSelector-5369254588e82c13885120f9549be1a3\"><!-- react-text: 321 -->Mountain View<!-- /react-text --><!-- react-text: 322 -->, <!-- /react-text --><!-- react-text: 323 -->CA<!-- /react-text --></li><li tabindex=\"-1\" role=\"option\" aria-label=\"Nashville, TN\" aria-selected=\"true\" class=\"locationSelector-5369254588e82c13885120f9549be1a3 locationSelector-56ff0f6e78f29955505d47092780284c\"><!-- react-text: 325 -->Nashville<!-- /react-text --><!-- react-text: 326 -->, <!-- /react-text --><!-- react-text: 327 -->TN<!-- /react-text --></li><li tabindex=\"-1\" role=\"option\" aria-label=\"Noblesville, IN\" aria-selected=\"false\" class=\"locationSelector-5369254588e82c13885120f9549be1a3\"><!-- react-text: 329 -->Noblesville<!-- /react-text --><!-- react-text: 330 -->, <!-- /react-text --><!-- react-text: 331 -->IN<!-- /react-text --></li><li tabindex=\"-1\" role=\"option\" aria-label=\"Phoenix, AZ\" aria-selected=\"false\" class=\"locationSelector-5369254588e82c13885120f9549be1a3\"><!-- react-text: 333 -->Phoenix<!-- /react-text --><!-- react-text: 334 -->, <!-- /react-text --><!-- react-text: 335 -->AZ<!-- /react-text --></li><li tabindex=\"-1\" role=\"option\" aria-label=\"Raleigh, NC\" aria-selected=\"false\" class=\"locationSelector-5369254588e82c13885120f9549be1a3\"><!-- react-text: 337 -->Raleigh<!-- /react-text --><!-- react-text: 338 -->, <!-- /react-text --><!-- react-text: 339 -->NC<!-- /react-text --></li><li tabindex=\"-1\" role=\"option\" aria-label=\"San Bernardino, CA\" aria-selected=\"false\" class=\"locationSelector-5369254588e82c13885120f9549be1a3\"><!-- react-text: 341 -->San Bernardino<!-- /react-text --><!-- react-text: 342 -->, <!-- /react-text --><!-- react-text: 343 -->CA<!-- /react-text --></li><li tabindex=\"-1\" role=\"option\" aria-label=\"Saratoga Springs, NY\" aria-selected=\"false\" class=\"locationSelector-5369254588e82c13885120f9549be1a3\"><!-- react-text: 345 -->Saratoga Springs<!-- /react-text --><!-- react-text: 346 -->, <!-- /react-text --><!-- react-text: 347 -->NY<!-- /react-text --></li><li tabindex=\"-1\" role=\"option\" aria-label=\"Virginia Beach, VA\" aria-selected=\"false\" class=\"locationSelector-5369254588e82c13885120f9549be1a3\"><!-- react-text: 349 -->Virginia Beach<!-- /react-text --><!-- react-text: 350 -->, <!-- /react-text --><!-- react-text: 351 -->VA<!-- /react-text --></li><li tabindex=\"-1\" role=\"option\" aria-label=\"West Palm Beach, FL\" aria-selected=\"false\" class=\"locationSelector-5369254588e82c13885120f9549be1a3\"><!-- react-text: 353 -->West Palm Beach<!-- /react-text --><!-- react-text: 354 -->, <!-- /react-text --><!-- react-text: 355 -->FL<!-- /react-text --></li><li tabindex=\"-1\" role=\"option\" aria-label=\"Wheatland, CA\" aria-selected=\"false\" class=\"locationSelector-5369254588e82c13885120f9549be1a3\"><!-- react-text: 357 -->Wheatland<!-- /react-text --><!-- react-text: 358 -->, <!-- /react-text --><!-- react-text: 359 -->CA<!-- /react-text --></li></ul></div></div></div></div><div><div class=\"multiSelectItem-f65a9b426dd262e301cafe987a6951e9\"><!-- react-text: 125 -->Nashville, TN<!-- /react-text --><button aria-label=\"Remove Nashville, TN\" class=\"multiSelectItem-6bcd745163e75821a0319fc0de9c05f1\">✕</button></div></div><button type=\"button\" class=\"clearAll-8aa2fceb9af9ddd384295ed3784b10de\">Clear all cities</button></div><div class=\"eventsFilters-d6ff9da55c5b445d48d8186104718a56\"></div></div><div><div><div><div><ul class=\"eventsLayout-976decc3fa38832ec4c31dcf7af5e0fa\"><li class=\"eventsLayout-88cccc047f40bb469be6f3c5980a236d\" aria-hidden=\"true\"><div class=\"eventsLayout-b3e891a16b06f1b9794fa38d5720075e\">date</div><div class=\"eventsLayout-8709f5c8a4b77b525052d474c57fad1e\">event</div><div class=\"eventsLayout-6553034b714482fa5ef3828301d73bd6\">location</div></li><li tabindex=\"0\" aria-label=\"Event date. Sat, Aug 5, 2017, time. 7:30 PM. Event name. Double Feature: Straight No Chaser/Scott Bradlee's Postmodern Jukebox. Event location. Ascend Amphitheater part of the Journeys Concert Series Nashville, TN. \" class=\"event-b02f4725903f3a104fd6c830c6679d27\"><div class=\"event-e77ef530a942be713567ac3ffb8d4313\" data-aqa-id=\"event-date-1B00524A78D41910\"><div class=\"event-2642bfa0bd5b5c7edf543ee0da1bae30\">Sat, Aug 5, 2017</div><div class=\"event-3ccbcb13304bf91fb096a20c9e88ec04\">7:30 PM</div></div><div class=\"event-3ed24209c6de56b678d3800239cffdae\"><div class=\"event-cdc54774e32af7dd1c562ecfea6ac8ad\"><div class=\"event-f73bace4a2c2af7abd42102c5312c84f\" data-aqa-id=\"event-name-1B00524A78D41910\">Double Feature: Straight No Chaser/Scott Bradlee's Postmodern Jukebox</div><div class=\"event-d1e2ea6998a897d4a6989a95f3209ade\" data-aqa-id=\"event-venue-1B00524A78D41910\"><div class=\"event-878e1d22d273e77da0eee42deb125135\">Ascend Amphitheater part of the Journeys Concert Series</div><div><!-- react-text: 376 -->Nashville<!-- /react-text --><!-- react-text: 377 -->, <!-- /react-text --><!-- react-text: 378 -->TN<!-- /react-text --></div></div></div><div class=\"event-66c370b0ddd0a85cf18beea20f4f795a\" data-aqa-id=\"event-redeem-1B00524A78D41910\"><button type=\"button\" data-event-category=\"Schlesinger Landing\" data-event-action=\"Redeem Click\" data-event-label=\"1B00524A78D41910\" data-event-value=\"0\" class=\"checkoutButton-836072b7b79e3b4d2946da6980600ef0\" title=\"Event. Double Feature: Straight No Chaser/Scott Bradlee's Postmodern Jukebox\">Redeem</button></div></div><svg focusable=\"false\" class=\"event-b9cb9f774a4f98bd97ddefc12581dd5d\"><use xmlns:xlink=\"http://www.w3.org/1999/xlink\" xlink:href=\"#arrow_right\"></use></svg></li></ul><div><div class=\"loadMore-f3e7205de5214c8cddf343ceefed58b3\"><div class=\"loadMore-ad96691b34f4dbc8894548ae71e8b3fb\"><button class=\"loadMore-fd2c782cbf271c99c0134fc7a827f725\" disabled=\"\">Load more</button></div></div><div class=\"loadMore-dd55cf3daaffaa0a22313b4a1828603e\"><!-- react-text: 387 -->Showing <!-- /react-text --><!-- react-text: 388 -->1<!-- /react-text --><!-- react-text: 389 --> of <!-- /react-text --><!-- react-text: 390 -->1<!-- /react-text --><!-- react-text: 391 --> Events<!-- /react-text --></div></div></div></div><noscript></noscript></div><noscript></noscript></div></div><div class=\"greyLine-a601f348f9fecb6cc70cd527ce30a45c\"></div></div></section><section class=\"discountCodes-c6766497e31c06ce3acd4f61c58b44dd\" id=\"codes\" tabindex=\"-1\"><h2 class=\"discountCodes-e0a8f2d066f172f6a4b61b8dfe98312d\">Discount Codes</h2><div class=\"discountCodes-6aa8bcaa44b2f797bf8ea89e5c94cf9f\"><div class=\"discountCodes-3f392b03c97f26b08a90838bbeabd94f\"><div class=\"discountCodes-9ebb4e3f6275acfef63a54d9fec5d98b\"><h3 class=\"discountCodes-c33b58cab5be17bed59af0b5c13c0e5c\">$5.00 UPS Discount Code</h3><p class=\"discountCodes-39b76ce4702dba9a5d1d48a0d96a29e4\"><!-- react-text: 145 -->Each class member receives one $5.00 UPS Discount Code per eligible transaction made on <!-- /react-text --><a href=\"http://www.ticketmaster.com/\" rel=\"noopener noreferrer\" title=\"opens in a new window\" target=\"_blank\">Ticketmaster.com</a><!-- react-text: 147 --> during the class period, up to a maximum of 17. The $5.00 UPS Discount Code may be applied toward a future ticket purchase with UPS delivery on Ticketmaster.com for events in the United States. UPS Discount Codes are redeemable for all events except MLB games and events held at AEG venues. Each UPS Discount Code is valid for a single, one-time use. Unused UPS Discount Codes remain active until June of 2020.<!-- /react-text --></p></div><div class=\"discountCodes-9ebb4e3f6275acfef63a54d9fec5d98b\"><h3 class=\"discountCodes-c33b58cab5be17bed59af0b5c13c0e5c\">$2.25 Discount Code</h3><p class=\"discountCodes-39b76ce4702dba9a5d1d48a0d96a29e4\"><!-- react-text: 151 -->Each class member receives one $2.25 Discount Code per eligible transaction made on <!-- /react-text --><a href=\"http://www.ticketmaster.com/\" rel=\"noopener noreferrer\" title=\"opens in a new window\" target=\"_blank\">Ticketmaster.com</a><!-- react-text: 153 --> during the class period, up to a maximum of 17. The $2.25 Discount Code can be applied toward a future ticket purchase on Ticketmaster.com for events in the United States. Discount Codes are redeemable for all events except MLB games &amp; those held at AEG venues. Each Discount Code is valid for a single, one-time use. Unused Discount Codes remain active until June of 2020.<!-- /react-text --></p></div><a href=\"https://concerts.livenation.com/member?tm_link=tm_ql_1\" class=\"discountCodes-6f1b2fd96d0ca07c75386a2e62a97756\" rel=\"noopener noreferrer\" target=\"_blank\" title=\"opens in a new window\">View Your Discount Codes</a></div><img class=\"discountCodes-7d310d836e6a3824b68325a46e9e9b11\" src=\"/af290312ffc090c55a4eb5e80437d3ba.png\" role=\"none\" alt=\"Discount Codes\"></div></section><section id=\"howto\" tabindex=\"-1\" class=\"howTo-289818806979213d3c8b7413d5b7dc3e\"><div class=\"howTo-f002e9516ee2a0f78095836b2191ea77\"><div class=\"howTo-79709c34a9918c444fba3c0b435b7db9\"><h3 class=\"howTo-3984921d79a6c7c1a59c0c40fd7d7300\" data-aqa-id=\"howto-redeem-vouchers\">Redeem Ticket Vouchers</h3><div class=\"howTo-4e278ea59ade2984f62af65600bd5235\"><div class=\"howTo-282ef9600219b394a835d59aae880d1a\"><img class=\"howTo-651baf6e84fcfbe75200dc464aab58ab\" src=\"/a81387d27ff88e6b48f3dbfcef8a0d4a.png\" role=\"none\" alt=\"Step one\"><div class=\"howTo-c73edb7e9a8d1eb11a6a3ed7b80b65aa\"><h4 class=\"howTo-d4ac95232e88417307e67407e4fed5e8\">Step One</h4><p class=\"howTo-cc27c635b956f110f039b4dd57edaad8\"><a href=\"https://concerts.livenation.com/member/vouchers\">Log in to view your vouchers</a><!-- react-text: 167 -->. If you are a class member, Ticket Vouchers will be found in your account. Make note of your Ticket Voucher codes. Then, visit the eligible event <!-- /react-text --><a href=\"#events\" media=\"DESKTOP\">list here</a></p></div></div><div class=\"howTo-282ef9600219b394a835d59aae880d1a\"><img class=\"howTo-b1609ebdddbeb01fcb064727df97c0f0\" src=\"/a35554d86031686feaee7d8ed7c70b53.png\" role=\"none\" alt=\"Step two\"><div class=\"howTo-c73edb7e9a8d1eb11a6a3ed7b80b65aa\"><h4 class=\"howTo-d4ac95232e88417307e67407e4fed5e8\">Step Two</h4><p class=\"howTo-cc27c635b956f110f039b4dd57edaad8\"><!-- react-text: 174 -->Go to the <!-- /react-text --><a href=\"#events\" media=\"DESKTOP\">list of eligible events</a><!-- react-text: 176 --> on this website. Select an event and click the ‘Redeem’ button to begin the redemption process*. Ticket Vouchers can only be redeemed for General Admission tickets to select events at Live Nation owned or operated venues in the United States. All tickets are subject to availability.<!-- /react-text --></p></div></div><div class=\"howTo-282ef9600219b394a835d59aae880d1a\"><img class=\"howTo-382bc72229e4db879462bbb8f2e31267\" src=\"/59ec8c14570ff2b9083bde858fd88688.png\" role=\"none\" alt=\"Step three\"><div class=\"howTo-c73edb7e9a8d1eb11a6a3ed7b80b65aa\"><h4 class=\"howTo-d4ac95232e88417307e67407e4fed5e8\">Step Three</h4><p class=\"howTo-cc27c635b956f110f039b4dd57edaad8\">During the transaction check out process, look for a “Voucher Code” link and enter your Ticket Voucher code. Continue to complete the transaction.</p><p class=\"howTo-44d53e05d459dc89d05b5502eddf5447\">*Restrictions apply.</p><a class=\"howTo-fd62b0201fd5451d63e9784f1b1fc173\" data-aqa-id=\"howto-view-events-left\" href=\"#events\" media=\"DESKTOP\">View Eligible Events</a></div></div><a class=\"howTo-c608e900406d1c4e664c26b1c1663df6 howTo-fd62b0201fd5451d63e9784f1b1fc173\" data-aqa-id=\"howto-view-events-left\" href=\"#events\" media=\"DESKTOP\">View Eligible Events</a></div></div><div class=\"howTo-45ca29674ff16b0f0a566876a1c2b934\"></div><div class=\"howTo-79709c34a9918c444fba3c0b435b7db9\"><h3 class=\"howTo-3984921d79a6c7c1a59c0c40fd7d7300\" data-aqa-id=\"howto-redeem-discount-codes\">Redeem Discount Codes</h3><div class=\"howTo-4e278ea59ade2984f62af65600bd5235\"><div class=\"howTo-282ef9600219b394a835d59aae880d1a\"><img class=\"howTo-651baf6e84fcfbe75200dc464aab58ab\" src=\"/a81387d27ff88e6b48f3dbfcef8a0d4a.png\" role=\"none\" alt=\"Step one\"><div class=\"howTo-c73edb7e9a8d1eb11a6a3ed7b80b65aa\"><h4 class=\"howTo-d4ac95232e88417307e67407e4fed5e8\">Step One</h4><p class=\"howTo-cc27c635b956f110f039b4dd57edaad8\"><a href=\"https://concerts.livenation.com/member/vouchers\">Log in to view your Discount Codes</a><!-- react-text: 195 -->. If you are a class member, Discount Codes will be found in your account. Discount Codes can be applied toward future ticket purchases for events in the United States available on <!-- /react-text --><a href=\"http://www.ticketmaster.com/\" rel=\"noopener noreferrer\" target=\"_blank\" title=\"opens in a new window\">Ticketmaster.com</a><!-- react-text: 197 -->*<!-- /react-text --></p></div></div><div class=\"howTo-282ef9600219b394a835d59aae880d1a\"><img class=\"howTo-b1609ebdddbeb01fcb064727df97c0f0\" src=\"/a35554d86031686feaee7d8ed7c70b53.png\" role=\"none\" alt=\"Step two\"><div class=\"howTo-c73edb7e9a8d1eb11a6a3ed7b80b65aa\"><h4 class=\"howTo-d4ac95232e88417307e67407e4fed5e8\">Step Two</h4><p class=\"howTo-cc27c635b956f110f039b4dd57edaad8\"><!-- react-text: 203 -->Visit <!-- /react-text --><a href=\"http://www.ticketmaster.com/\" rel=\"noopener noreferrer\" target=\"_blank\" title=\"opens in a new window\">Ticketmaster.com</a><!-- react-text: 205 -->, search for an event, and begin the transaction process.<!-- /react-text --></p></div></div><div class=\"howTo-282ef9600219b394a835d59aae880d1a\"><img class=\"howTo-382bc72229e4db879462bbb8f2e31267\" src=\"/59ec8c14570ff2b9083bde858fd88688.png\" role=\"none\" alt=\"Step three\"><div class=\"howTo-c73edb7e9a8d1eb11a6a3ed7b80b65aa\"><h4 class=\"howTo-d4ac95232e88417307e67407e4fed5e8\">Step Three</h4><p class=\"howTo-cc27c635b956f110f039b4dd57edaad8\">At check out, enter the Discount Codes you would like to use. The $5.00 UPS Discount Codes can only be used for tickets purchased with UPS delivery method selected. More than one Discount Code can be used during a single transaction.</p><p class=\"howTo-44d53e05d459dc89d05b5502eddf5447\">*Restrictions apply.</p></div></div></div></div></div></section><footer class=\"LNFooter-f5dddf0466132273c764b0d557a7b692\"><div class=\"LNFooter-1ad047804d541f107c0dfbddbcfe3567\"><div class=\"LNFooter-0dbd81b3db4c8e83421b9fe0a3c08438\"><ul class=\"LNFooter-d715ec4e31174664fcc620ef40a6791c\"><li class=\"LNFooter-11b8b4fd03e81db6314e0c3b16609b75\"><a href=\"http://lntv.com/news/?tm_link=tm_i_blog\" class=\"LNFooter-207fa7cb509bf9231c660f0ef9c4d4e4\">Blog</a></li><li class=\"LNFooter-11b8b4fd03e81db6314e0c3b16609b75\"><a href=\"http://concerts.livenation.com/careers?tm_link=tm_i_careers\" class=\"LNFooter-207fa7cb509bf9231c660f0ef9c4d4e4\">Careers</a></li><li class=\"LNFooter-11b8b4fd03e81db6314e0c3b16609b75\"><a href=\"http://concerts.livenation.com/h/terms.html?tm_link=tm_i_terms\" class=\"LNFooter-207fa7cb509bf9231c660f0ef9c4d4e4\">Terms of Use</a></li><li class=\"LNFooter-11b8b4fd03e81db6314e0c3b16609b75\"><a href=\"http://concerts.livenation.com/h/privacy.html?tm_link=tm_i_pp\" class=\"LNFooter-207fa7cb509bf9231c660f0ef9c4d4e4\">Privacy Policy</a></li><li class=\"LNFooter-11b8b4fd03e81db6314e0c3b16609b75\"><a href=\"http://concerts.livenation.com/h/ad-choices.html?tm_link=tm_i_adchoices\" class=\"LNFooter-207fa7cb509bf9231c660f0ef9c4d4e4\">AdChoices</a></li><li class=\"LNFooter-11b8b4fd03e81db6314e0c3b16609b75\"><a href=\"http://investors.livenationentertainment.com\" class=\"LNFooter-207fa7cb509bf9231c660f0ef9c4d4e4\">Investor Relations</a></li><li class=\"LNFooter-11b8b4fd03e81db6314e0c3b16609b75\"><a href=\"http://concerts.livenation.com/h/help.html?tm_link=tm_i_help\" class=\"LNFooter-207fa7cb509bf9231c660f0ef9c4d4e4\">Help/FAQ</a></li></ul><ul class=\"LNFooter-f2c891a61533c93582842fdd43bbc0b7 LNFooter-d715ec4e31174664fcc620ef40a6791c\"><li class=\"LNFooter-11b8b4fd03e81db6314e0c3b16609b75\" data-aqa-id=\"facebook\"><a href=\"https://www.facebook.com/livenation\" class=\"LNFooter-d623d568b015745d2f978bde837abde8\"><img src=\"/b72c9ceb8aa9663ca0663051b47d36f0.png\" alt=\"facebook\"></a></li><li class=\"LNFooter-11b8b4fd03e81db6314e0c3b16609b75\" data-aqa-id=\"twitter\"><a href=\"https://www.twitter.com/livenation\" class=\"LNFooter-d623d568b015745d2f978bde837abde8\"><img src=\"/bd002d1c1428086e98828bfa4c30de49.png\" alt=\"twitter\"></a></li><li class=\"LNFooter-11b8b4fd03e81db6314e0c3b16609b75\" data-aqa-id=\"instagram\"><a href=\"http://instagram.com/livenation\" class=\"LNFooter-d623d568b015745d2f978bde837abde8\"><img src=\"/bd5b639a565f83cdf20b0b914b9c0ce3.png\" alt=\"instagram\"></a></li><li class=\"LNFooter-11b8b4fd03e81db6314e0c3b16609b75\" data-aqa-id=\"pinterest\"><a href=\"http://www.pinterest.com/livenation\" class=\"LNFooter-d623d568b015745d2f978bde837abde8\"><img src=\"/7af43da1d72d63b4abaf8f6a25b067e7.png\" alt=\"pinterest\"></a></li></ul></div><p class=\"LNFooter-77b66766095ad194ac4b0ddca38f383c\"><!-- react-text: 244 -->By continuing past this page, you agree to our<!-- /react-text --><a href=\"http://concerts.livenation.com/h/terms.html?tm_link=tm_i_terms\" class=\"LNFooter-c2cefb155b74ca3a171759a1ef9ff4a7\">Terms of use</a></p><div class=\"LNFooter-0dbd81b3db4c8e83421b9fe0a3c08438\"><p class=\"LNFooter-3509a9573284c4be9d85ba7637a317a3\"><a href=\"http://concerts.livenation.com/h/privacy.html?tm_link=tm_i_privacy\" class=\"LNFooter-05c8c1de4546fc5427ae3894df037714\">Privacy Policy</a><!-- react-text: 249 -->| © 2006 - 2017 Live Nation Worldwide, Inc. All rights reserved.<!-- /react-text --><br><!-- react-text: 251 -->This product uses the Instagram API but is not endorsed or certified by Instagram.<!-- /react-text --></p></div></div></footer></div></div>\n",
    "\n",
    "\n",
    "  <!-- Omniture tagging -->\n",
    "  <script type=\"text/javascript\">\n",
    "    var CustomMap = function(){\n",
    "      var _storage = {};\n",
    "      this.get = function(key) {\n",
    "        return _storage[key];\n",
    "      }\n",
    "      this.set = function (key, value){\n",
    "        return _storage[key] = value;\n",
    "      }\n",
    "    }\n",
    "\n",
    "    function GetCookie (name) {\n",
    "      var value = \"; \" + document.cookie;\n",
    "      var parts = value.split(\"; \" + name + \"=\");\n",
    "      if (parts.length >= 2)\n",
    "      { return unescape(decodeURI(parts.pop().split(\";\").shift())); }\n",
    "      else\n",
    "      { return null; }\n",
    "    }\n",
    "\n",
    "    var tm_omn_account= \"tm-LN-USprod,tm-combinedUSprod\";\n",
    "    var tm_omni_temp = typeof Map === 'function' ? new Map() : new CustomMap();\n",
    "  </script>\n",
    "\n",
    "  <script type=\"text/javascript\" src=\"http://s1.ticketm.net/en-us/js/978ec32486356f4ea226fb8706a4d9d2/omniture_tracker.js\"></script>\n",
    "  <script type=\"text/javascript\">\n",
    "    tm_omn.pageName = \"LN_US: Schlesinger Landing\";\n",
    "    tm_omn.channel = \"LN_US: Schlesinger Landing\";\n",
    "    tm_omn.t();\n",
    "  </script>\n",
    "  <!-- End Omniture tagging -->\n",
    "<script type=\"text/javascript\" src=\"/02d1dd8f1d8eed3229b7.main.js\"></script><div class=\"ReactModalPortal\"><div data-reactroot=\"\"></div></div><div class=\"ReactModalPortal\"><div data-reactroot=\"\"></div></div>\n",
    "\n",
    "<script type=\"text/javascript\" id=\"\">var otcVal=\"\",cfcVal=\"\",date=\"\",expires=\"\",tempArr=window.location.host.split(\".\").reverse(),root_domain=\".\"+tempArr[1]+\".\"+tempArr[0];\"undefined\"!==typeof google_tag_manager[\"GTM-K4QMLG\"].macro('gtm24')&&\"\"!==google_tag_manager[\"GTM-K4QMLG\"].macro('gtm29')&&(otcVal=google_tag_manager[\"GTM-K4QMLG\"].macro('gtm34'),date=new Date,date.setTime(date.getTime()+2592E6),expires=\"; expires\\x3d\"+date.toGMTString(),document.cookie=\"_ga_otc\\x3d\"+otcVal+\";domain\\x3d\"+root_domain+\";path\\x3d/\"+expires+\";\");\n",
    "\"undefined\"!==typeof google_tag_manager[\"GTM-K4QMLG\"].macro('gtm41')&&\"\"!==google_tag_manager[\"GTM-K4QMLG\"].macro('gtm48')&&(cfcVal=google_tag_manager[\"GTM-K4QMLG\"].macro('gtm55'),date=new Date,date.setTime(date.getTime()+2592E6),expires=\"; expires\\x3d\"+date.toGMTString(),document.cookie=\"_ga_cfc\\x3d\"+cfcVal+\";domain\\x3d\"+root_domain+\";path\\x3d/\"+expires+\";\");</script><div style=\"display: none; visibility: hidden;\">\n",
    "<noscript></noscript>\n",
    "<script>(function(a,b,d,c,e){a[c]=a[c]||[];a[c].push({\"gtm.start\":(new Date).getTime(),event:\"gtm.js\"});a=b.getElementsByTagName(d)[0];b=b.createElement(d);b.async=!0;b.src=\"//www.googletagmanager.com/gtm.js?id\\x3d\"+e+(\"dataLayer\"!=c?\"\\x26l\\x3d\"+c:\"\");a.parentNode.insertBefore(b,a)})(window,document,\"script\",\"dataLayer\",\"GTM-KV8DNB\");</script>\n",
    "</div><iframe src=\"http://fls.doubleclick.net/activityi;src=2036857;type=gener779;cat=liven634;u1=00EE2914903639A2-4656706977443;ord=6350691691494.501?\" width=\"1\" height=\"1\" frameborder=\"0\" style=\"display:none\"></iframe></body></html>\"\"\"\n",
    "soup = BeautifulSoup(html, 'html5lib')"
   ]
  },
  {
   "cell_type": "code",
   "execution_count": 104,
   "metadata": {},
   "outputs": [
    {
     "data": {
      "text/plain": [
       "<li aria-label=\"Event date. Sat, Aug 5, 2017, time. 7:30 PM. Event name. Double Feature: Straight No Chaser/Scott Bradlee's Postmodern Jukebox. Event location. Ascend Amphitheater part of the Journeys Concert Series Nashville, TN. \" class=\"event-b02f4725903f3a104fd6c830c6679d27\" tabindex=\"0\"><div class=\"event-e77ef530a942be713567ac3ffb8d4313\" data-aqa-id=\"event-date-1B00524A78D41910\"><div class=\"event-2642bfa0bd5b5c7edf543ee0da1bae30\">Sat, Aug 5, 2017</div><div class=\"event-3ccbcb13304bf91fb096a20c9e88ec04\">7:30 PM</div></div><div class=\"event-3ed24209c6de56b678d3800239cffdae\"><div class=\"event-cdc54774e32af7dd1c562ecfea6ac8ad\"><div class=\"event-f73bace4a2c2af7abd42102c5312c84f\" data-aqa-id=\"event-name-1B00524A78D41910\">Double Feature: Straight No Chaser/Scott Bradlee's Postmodern Jukebox</div><div class=\"event-d1e2ea6998a897d4a6989a95f3209ade\" data-aqa-id=\"event-venue-1B00524A78D41910\"><div class=\"event-878e1d22d273e77da0eee42deb125135\">Ascend Amphitheater part of the Journeys Concert Series</div><div><!-- react-text: 376 -->Nashville<!-- /react-text --><!-- react-text: 377 -->, <!-- /react-text --><!-- react-text: 378 -->TN<!-- /react-text --></div></div></div><div class=\"event-66c370b0ddd0a85cf18beea20f4f795a\" data-aqa-id=\"event-redeem-1B00524A78D41910\"><button class=\"checkoutButton-836072b7b79e3b4d2946da6980600ef0\" data-event-action=\"Redeem Click\" data-event-category=\"Schlesinger Landing\" data-event-label=\"1B00524A78D41910\" data-event-value=\"0\" title=\"Event. Double Feature: Straight No Chaser/Scott Bradlee's Postmodern Jukebox\" type=\"button\">Redeem</button></div></div><svg class=\"event-b9cb9f774a4f98bd97ddefc12581dd5d\" focusable=\"false\"><use xlink:href=\"#arrow_right\" xmlns:xlink=\"http://www.w3.org/1999/xlink\"></use></svg></li>"
      ]
     },
     "execution_count": 104,
     "metadata": {},
     "output_type": "execute_result"
    }
   ],
   "source": [
    "import re \n",
    "regex = re.compile('event-.*')\n",
    "results = soup.find('li', attrs={'class': regex}) \n",
    "results"
   ]
  },
  {
   "cell_type": "code",
   "execution_count": 105,
   "metadata": {},
   "outputs": [
    {
     "name": "stdout",
     "output_type": "stream",
     "text": [
      "Sat, Aug 5, 20177:30 PMDouble Feature: Straight No Chaser/Scott Bradlee's Postmodern JukeboxAscend Amphitheater part of the Journeys Concert SeriesNashville, TNRedeem\n"
     ]
    }
   ],
   "source": [
    "print(results.text)"
   ]
  },
  {
   "cell_type": "code",
   "execution_count": 109,
   "metadata": {},
   "outputs": [
    {
     "name": "stdout",
     "output_type": "stream",
     "text": [
      "<li aria-label=\"Event date. Sat, Aug 5, 2017, time. 7:30 PM. Event name. Double Feature: Straight No Chaser/Scott Bradlee's Postmodern Jukebox. Event location. Ascend Amphitheater part of the Journeys Concert Series Nashville, TN. \" class=\"event-b02f4725903f3a104fd6c830c6679d27\" tabindex=\"0\">\n",
      " <div class=\"event-e77ef530a942be713567ac3ffb8d4313\" data-aqa-id=\"event-date-1B00524A78D41910\">\n",
      "  <div class=\"event-2642bfa0bd5b5c7edf543ee0da1bae30\">\n",
      "   Sat, Aug 5, 2017\n",
      "  </div>\n",
      "  <div class=\"event-3ccbcb13304bf91fb096a20c9e88ec04\">\n",
      "   7:30 PM\n",
      "  </div>\n",
      " </div>\n",
      " <div class=\"event-3ed24209c6de56b678d3800239cffdae\">\n",
      "  <div class=\"event-cdc54774e32af7dd1c562ecfea6ac8ad\">\n",
      "   <div class=\"event-f73bace4a2c2af7abd42102c5312c84f\" data-aqa-id=\"event-name-1B00524A78D41910\">\n",
      "    Double Feature: Straight No Chaser/Scott Bradlee's Postmodern Jukebox\n",
      "   </div>\n",
      "   <div class=\"event-d1e2ea6998a897d4a6989a95f3209ade\" data-aqa-id=\"event-venue-1B00524A78D41910\">\n",
      "    <div class=\"event-878e1d22d273e77da0eee42deb125135\">\n",
      "     Ascend Amphitheater part of the Journeys Concert Series\n",
      "    </div>\n",
      "    <div>\n",
      "     <!-- react-text: 376 -->\n",
      "     Nashville\n",
      "     <!-- /react-text -->\n",
      "     <!-- react-text: 377 -->\n",
      "     ,\n",
      "     <!-- /react-text -->\n",
      "     <!-- react-text: 378 -->\n",
      "     TN\n",
      "     <!-- /react-text -->\n",
      "    </div>\n",
      "   </div>\n",
      "  </div>\n",
      "  <div class=\"event-66c370b0ddd0a85cf18beea20f4f795a\" data-aqa-id=\"event-redeem-1B00524A78D41910\">\n",
      "   <button class=\"checkoutButton-836072b7b79e3b4d2946da6980600ef0\" data-event-action=\"Redeem Click\" data-event-category=\"Schlesinger Landing\" data-event-label=\"1B00524A78D41910\" data-event-value=\"0\" title=\"Event. Double Feature: Straight No Chaser/Scott Bradlee's Postmodern Jukebox\" type=\"button\">\n",
      "    Redeem\n",
      "   </button>\n",
      "  </div>\n",
      " </div>\n",
      " <svg class=\"event-b9cb9f774a4f98bd97ddefc12581dd5d\" focusable=\"false\">\n",
      "  <use xlink:href=\"#arrow_right\" xmlns:xlink=\"http://www.w3.org/1999/xlink\">\n",
      "  </use>\n",
      " </svg>\n",
      "</li>\n"
     ]
    }
   ],
   "source": [
    "print(results.prettify())"
   ]
  },
  {
   "cell_type": "code",
   "execution_count": 103,
   "metadata": {},
   "outputs": [
    {
     "data": {
      "text/plain": [
       "{'city_state': 'Nashville, TN',\n",
       " 'date': 'Sat, Aug 5, 2017',\n",
       " 'name': \"Double Feature: Straight No Chaser/Scott Bradlee's Postmodern Jukebox\",\n",
       " 'time': '7:30 PM',\n",
       " 'venue': 'Ascend Amphitheater part of the Journeys Concert Series'}"
      ]
     },
     "execution_count": 103,
     "metadata": {},
     "output_type": "execute_result"
    }
   ],
   "source": [
    "name = results.find(\n",
    "            \"div\", \n",
    "            attrs={'data-aqa-id': lambda value: value and value.startswith(\"event-name\")}\n",
    "    ).text\n",
    "\n",
    "date_time = results.find(\n",
    "        \"div\", \n",
    "        attrs={'data-aqa-id': lambda value: value and value.startswith(\"event-date\")}\n",
    ")\n",
    "date, time = map(lambda element: element.text, date_time.findChildren())\n",
    "\n",
    "venue_info = results.find(\n",
    "        \"div\", \n",
    "        attrs={'data-aqa-id': lambda value: value and value.startswith(\"event-venue\")}\n",
    ")\n",
    "venue, city_state = map(lambda element: element.text, venue_info.findChildren())\n",
    "\n",
    "d = {\n",
    "    'name': name, \n",
    "    'date': date, \n",
    "    'time': time, \n",
    "    'venue': venue, \n",
    "    'city_state': city_state\n",
    "}\n",
    "\n",
    "d"
   ]
  },
  {
   "cell_type": "code",
   "execution_count": null,
   "metadata": {
    "collapsed": true
   },
   "outputs": [],
   "source": []
  }
 ],
 "metadata": {
  "kernelspec": {
   "display_name": "Python 3",
   "language": "python",
   "name": "python3"
  },
  "language_info": {
   "codemirror_mode": {
    "name": "ipython",
    "version": 3
   },
   "file_extension": ".py",
   "mimetype": "text/x-python",
   "name": "python",
   "nbconvert_exporter": "python",
   "pygments_lexer": "ipython3",
   "version": "3.6.2"
  }
 },
 "nbformat": 4,
 "nbformat_minor": 2
}
